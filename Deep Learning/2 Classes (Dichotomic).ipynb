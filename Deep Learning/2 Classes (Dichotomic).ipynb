{
 "cells": [
  {
   "cell_type": "markdown",
   "id": "53849eff-1b44-4cbc-aaf2-f8a2ecaa851e",
   "metadata": {},
   "source": [
    "# 2 Classes (Dichotomic) Examples"
   ]
  },
  {
   "cell_type": "code",
   "execution_count": null,
   "id": "b119d3eb-f9de-462a-8a74-8d503869591c",
   "metadata": {},
   "outputs": [],
   "source": [
    "import matplotlib.pyplot as plt\n",
    "import seaborn as sns\n",
    "import pandas as pd\n",
    "import numpy as np\n",
    "\n",
    "from sklearn.model_selection import train_test_split"
   ]
  },
  {
   "cell_type": "markdown",
   "id": "66b00115-d934-42bb-b7c2-b613509e89c5",
   "metadata": {},
   "source": [
    "## Example 1: 2 Spirals\n",
    "\n",
    "Let's create some data:\n",
    "  - 2 Features (X1, X2)\n",
    "  - 2 Classes (0, 1)"
   ]
  },
  {
   "cell_type": "code",
   "execution_count": null,
   "id": "4af2d49b-c1f4-4682-8f02-74243294c160",
   "metadata": {},
   "outputs": [],
   "source": [
    "def twospirals(n_points, noise=.5):\n",
    "    n = np.sqrt(np.random.rand(n_points,1)) * 780 * (2*np.pi)/360\n",
    "    d1x = -np.cos(n)*n + np.random.rand(n_points,1) * noise\n",
    "    d1y = np.sin(n)*n + np.random.rand(n_points,1) * noise\n",
    "    \n",
    "    X = np.vstack((np.hstack((d1x,d1y)),np.hstack((-d1x,-d1y))))\n",
    "    y = np.hstack((np.zeros(n_points), np.ones(n_points)))\n",
    "\n",
    "    # Scale X\n",
    "    X = X - X.min()\n",
    "    X = X / X.max()\n",
    "    \n",
    "    return X, y\n",
    "\n",
    "# Create Datapoints\n",
    "X, y = twospirals(2_000)\n",
    "\n",
    "# Plot Datapoints\n",
    "plt.figure(figsize=(5, 5))\n",
    "sns.scatterplot(data=None, x=X.T[0], y=X.T[1], hue=y)\n",
    "plt.show()"
   ]
  },
  {
   "cell_type": "markdown",
   "id": "49c373e9-03bd-41ae-8a01-46422ffa1f6d",
   "metadata": {},
   "source": [
    "Let's split train and test, we are using 20% data to validate model"
   ]
  },
  {
   "cell_type": "code",
   "execution_count": null,
   "id": "ca4bbce3-4f96-4754-8615-fcd80901d096",
   "metadata": {},
   "outputs": [],
   "source": [
    "# Split Datapoints\n",
    "X_train, X_test, y_train, y_test = train_test_split(X, y, test_size=0.2)\n",
    "\n",
    "# Plot Datasets\n",
    "fig, ax = plt.subplots(1, 2, figsize=(11, 5))\n",
    "\n",
    "sns.scatterplot(data=None, x=X_train.T[0], y=X_train.T[1], hue=y_train, ax=ax[0])\n",
    "sns.scatterplot(data=None, x=X_test.T[0], y=X_test.T[1], hue=y_test, ax=ax[1])\n",
    "\n",
    "ax[0].title.set_text('Train (%d Samples)' % len(y_train))\n",
    "ax[1].title.set_text('Test (%d Samples)' % len(y_test))\n",
    "\n",
    "plt.show()"
   ]
  },
  {
   "cell_type": "markdown",
   "id": "c3c3e97e-5de7-47e4-9d96-e5af7b4c5e7d",
   "metadata": {},
   "source": [
    "### Let's create our ANN\n",
    "\n",
    "Remember: Go crazy with sizes! It's DeepLearning era baby!"
   ]
  },
  {
   "cell_type": "code",
   "execution_count": null,
   "id": "a0975333-b121-47b9-98cb-271b5b6474c3",
   "metadata": {},
   "outputs": [],
   "source": [
    "from keras.models import Sequential\n",
    "from keras.layers import Dense\n",
    "\n",
    "# Build Model\n",
    "model = Sequential([\n",
    "    Dense(2, activation='relu'),\n",
    "    Dense(10, activation='relu'),\n",
    "    Dense(20, activation='relu'),\n",
    "    Dense(20, activation='relu'),\n",
    "    Dense(20, activation='relu'),\n",
    "    Dense(20, activation='sigmoid'),\n",
    "    Dense(20, activation='sigmoid'),\n",
    "    Dense(20, activation='sigmoid'),\n",
    "    Dense(10, activation='sigmoid'),\n",
    "    Dense(1, activation='sigmoid')\n",
    "])\n",
    "\n",
    "model.compile(\n",
    "    optimizer='adam',\n",
    "    loss='binary_crossentropy'\n",
    ")\n",
    "\n",
    "# Trian Model\n",
    "report = model.fit(\n",
    "    X_train,\n",
    "    y_train,\n",
    "    epochs=1_000,\n",
    "    validation_data=(X_test, y_test),\n",
    "    verbose=0 # Silent Mode\n",
    ")\n",
    "\n",
    "# Plot Losses\n",
    "plt.figure(figsize=(15, 5))\n",
    "sns.lineplot(data=report.history)\n",
    "plt.show()\n",
    "\n",
    "print('Final Loss Training:', report.history['loss'][-1] )\n",
    "print('Final Loss Validation:', report.history['val_loss'][-1] )"
   ]
  },
  {
   "cell_type": "code",
   "execution_count": null,
   "id": "1416a227-2731-461e-9396-a3e6ef3b45e7",
   "metadata": {},
   "outputs": [],
   "source": [
    "model.summary()"
   ]
  },
  {
   "cell_type": "markdown",
   "id": "47a64beb-3513-4577-8f81-b5df223240ce",
   "metadata": {},
   "source": [
    "**Instead eval validation test, let's create a grid to see all posible points**"
   ]
  },
  {
   "cell_type": "code",
   "execution_count": null,
   "id": "da1daa81-3fac-4f38-b03c-4b4fb9837451",
   "metadata": {},
   "outputs": [],
   "source": [
    "# Create Grid\n",
    "X_random_samples = []\n",
    "for x0 in np.linspace(0, 1, 70):\n",
    "    for x1 in np.linspace(0, 1, 70):\n",
    "        X_random_samples.append( (x0, x1) )\n",
    "\n",
    "# Make Predictions of Probs\n",
    "X_random_samples = np.array( X_random_samples )\n",
    "y_proba = model.predict( X_random_samples )\n",
    "y_proba = y_proba.reshape( (-1) )\n",
    "\n",
    "# Apply Threshold\n",
    "y_pred = list(map(lambda p: 1 if p > 0.5 else 0, y_proba))\n",
    "\n",
    "# Plot Grid\n",
    "plt.figure(figsize=(5, 5))\n",
    "sns.scatterplot(\n",
    "    data=None,\n",
    "    x=X_random_samples.T[0],\n",
    "    y=X_random_samples.T[1],\n",
    "    hue=y_pred,\n",
    "    marker='s',\n",
    "    size=1,\n",
    "    linewidth=0\n",
    ")\n",
    "plt.show()"
   ]
  },
  {
   "cell_type": "markdown",
   "id": "7bae7926-13f0-46af-9c4c-abbf422ee586",
   "metadata": {},
   "source": [
    "Not let's plot probabilities"
   ]
  },
  {
   "cell_type": "code",
   "execution_count": null,
   "id": "55826e06-1aec-469e-8706-a586862ba59b",
   "metadata": {},
   "outputs": [],
   "source": [
    "plt.figure(figsize=(5, 5))\n",
    "\n",
    "# Model Probabilities\n",
    "sns.scatterplot(\n",
    "    data=None,\n",
    "    x=X_random_samples.T[0],\n",
    "    y=X_random_samples.T[1],\n",
    "    c=y_proba,\n",
    "    cmap='binary',\n",
    "    marker='s',\n",
    "    size=1,\n",
    "    linewidth=0\n",
    ")\n",
    "\n",
    "# Test Datapoints\n",
    "sns.scatterplot(data=None, x=X_test.T[0], y=X_test.T[1], hue=y_test)\n",
    "\n",
    "plt.show()"
   ]
  },
  {
   "cell_type": "markdown",
   "id": "054ddc77-7107-45c3-84cb-2001bf487ed9",
   "metadata": {},
   "source": [
    "# Sentimient Analysis (Example 2)\n",
    "\n",
    "Let's read some data from web"
   ]
  },
  {
   "cell_type": "code",
   "execution_count": null,
   "id": "5d38b718-af10-43fe-a8d5-ccc3ffafc46c",
   "metadata": {},
   "outputs": [],
   "source": [
    "import ssl\n",
    "\n",
    "# Ignore SSL Errors when read data from web\n",
    "ssl._create_default_https_context = ssl._create_unverified_context\n",
    "\n",
    "df = pd.read_csv('https://raw.githubusercontent.com/coderakib/Sentimental-analysis-of-amazon-customer-reviews/main/appl_1_amazon_pc.csv')\n",
    "df = df[ ['review_body', 'sentiment'] ]\n",
    "\n",
    "df.dropna(inplace=True)\n",
    "df.reset_index(inplace=True)\n",
    "\n",
    "df"
   ]
  },
  {
   "cell_type": "markdown",
   "id": "dc641ef0-7dc8-42ca-9c6d-8dbd6c275a43",
   "metadata": {},
   "source": [
    "Is this a unbalanced dataset?"
   ]
  },
  {
   "cell_type": "code",
   "execution_count": null,
   "id": "6a8d8e09-6968-4fce-b7b9-f366c8202cf5",
   "metadata": {},
   "outputs": [],
   "source": [
    "df['sentiment'].value_counts().to_frame()"
   ]
  },
  {
   "cell_type": "markdown",
   "id": "e25c1869-2340-4527-b386-94b87c841e59",
   "metadata": {},
   "source": [
    "Yes, it's... Let's do downsampling here..."
   ]
  },
  {
   "cell_type": "code",
   "execution_count": null,
   "id": "c0a4048b-3425-46ca-ac6b-95c04b5ceadd",
   "metadata": {},
   "outputs": [],
   "source": [
    "df_balanced = pd.concat([\n",
    "    df[ df['sentiment'] == 0 ],\n",
    "    df[ df['sentiment'] == 1 ].head( 5078 ),\n",
    "])\n",
    "\n",
    "df_balanced['sentiment'].value_counts().to_frame()"
   ]
  },
  {
   "cell_type": "markdown",
   "id": "a331b39c-3952-4599-ba2e-b3e555a5a986",
   "metadata": {},
   "source": [
    "As encoder we are using [Bag of Words](https://en.wikipedia.org/wiki/Bag-of-words_model)"
   ]
  },
  {
   "cell_type": "code",
   "execution_count": null,
   "id": "69194338-54ad-40ea-8455-463d63aaa2ea",
   "metadata": {},
   "outputs": [],
   "source": [
    "from sklearn.feature_extraction.text import TfidfVectorizer\n",
    "\n",
    "texts = df_balanced['review_body']\n",
    "\n",
    "encoder = TfidfVectorizer(min_df=4) # min_df => Word must appear at least 10 times in texts\n",
    "encoder.fit( texts )\n",
    "\n",
    "vocabulary = encoder.get_feature_names_out()\n",
    "input_len = len(vocabulary)\n",
    "print('X vector input is: %d' % input_len)\n",
    "\n",
    "X_sparse = encoder.transform( texts )\n",
    "X = X_sparse.todense() # Tensorflow need Dense Inputs\n",
    "y = df_balanced['sentiment'].values\n",
    "\n",
    "X.shape, y.shape"
   ]
  },
  {
   "cell_type": "code",
   "execution_count": null,
   "id": "f8600651-d28c-425a-8743-fc8aad12116a",
   "metadata": {},
   "outputs": [],
   "source": [
    "# Split Datapoints\n",
    "X_train, X_test, y_train, y_test = train_test_split(X, y, test_size=0.2)\n",
    "\n",
    "print('Training Samples: %d' % len(y_train))\n",
    "print('Test Samples: %d' % len(y_test))"
   ]
  },
  {
   "cell_type": "markdown",
   "id": "5cb34889-c90f-421f-90da-d86039db3b72",
   "metadata": {},
   "source": [
    "### Let's create our ANN\n",
    "\n",
    "Remember: Go crazy with sizes! It's DeepLearning era baby!"
   ]
  },
  {
   "cell_type": "code",
   "execution_count": null,
   "id": "79b4ca22-cca8-4574-84c7-9a56163a946a",
   "metadata": {},
   "outputs": [],
   "source": [
    "from keras.models import Sequential\n",
    "from keras.layers import Dense, Dropout\n",
    "\n",
    "# Build Model\n",
    "model = Sequential([\n",
    "    Dense(input_len, activation='relu'),\n",
    "    Dense(1_000, activation='relu'),\n",
    "    Dropout(0.5),\n",
    "    Dense(500, activation='relu'),\n",
    "    Dense(250, activation='sigmoid'),\n",
    "    Dropout(0.5),\n",
    "    Dense(50, activation='sigmoid'),\n",
    "    Dense(1, activation='sigmoid')\n",
    "])\n",
    "\n",
    "model.compile(\n",
    "    optimizer='adam',\n",
    "    loss='binary_crossentropy'\n",
    ")\n",
    "\n",
    "# Trian Model\n",
    "report = model.fit(\n",
    "    X_train,\n",
    "    y_train,\n",
    "    epochs=50,\n",
    "    validation_data=(X_test, y_test),\n",
    "    verbose=2 # Silent Mode\n",
    ")\n",
    "\n",
    "# Plot Losses\n",
    "plt.figure(figsize=(15, 5))\n",
    "sns.lineplot(data=report.history)\n",
    "plt.show()\n",
    "\n",
    "print('Final Loss Training:', report.history['loss'][-1] )\n",
    "print('Final Loss Validation:', report.history['val_loss'][-1] )"
   ]
  },
  {
   "cell_type": "code",
   "execution_count": null,
   "id": "2e13021e-4471-4ef5-a595-678e4087da0f",
   "metadata": {},
   "outputs": [],
   "source": [
    "model.summary()"
   ]
  },
  {
   "cell_type": "markdown",
   "id": "af761995-7b11-472e-a673-f435c461161c",
   "metadata": {},
   "source": [
    "**Instead eval model, let's play with it**"
   ]
  },
  {
   "cell_type": "code",
   "execution_count": null,
   "id": "353707be-69bd-4156-bf15-414e8c2edaab",
   "metadata": {},
   "outputs": [],
   "source": [
    "while True:\n",
    "    text = input('Text:')\n",
    "\n",
    "    if text == 'exit':\n",
    "        break\n",
    "    else:\n",
    "        X_sparse = encoder.transform( [ text ] )\n",
    "        X_sample = X_sparse.todense()\n",
    "        y_proba = model.predict(X_sample, verbose=0)\n",
    "        y_proba = y_proba.reshape( (-1) )\n",
    "        y_pred = list(map(lambda p: 1 if p > 0.5 else 0, y_proba))\n",
    "        \n",
    "        print('\\n\"%s\" => %d\\n' % (text, y_pred[0]))"
   ]
  }
 ],
 "metadata": {
  "kernelspec": {
   "display_name": "Python 3 (ipykernel)",
   "language": "python",
   "name": "python3"
  },
  "language_info": {
   "codemirror_mode": {
    "name": "ipython",
    "version": 3
   },
   "file_extension": ".py",
   "mimetype": "text/x-python",
   "name": "python",
   "nbconvert_exporter": "python",
   "pygments_lexer": "ipython3",
   "version": "3.11.2"
  }
 },
 "nbformat": 4,
 "nbformat_minor": 5
}
